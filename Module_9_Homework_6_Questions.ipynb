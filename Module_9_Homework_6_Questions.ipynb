{
  "nbformat": 4,
  "nbformat_minor": 0,
  "metadata": {
    "colab": {
      "provenance": []
    },
    "kernelspec": {
      "name": "python3",
      "display_name": "Python 3"
    },
    "language_info": {
      "name": "python"
    }
  },
  "cells": [
    {
      "cell_type": "markdown",
      "source": [
        "# QUESTION 1: SOLVING NAIVE BAYES BY HAND"
      ],
      "metadata": {
        "id": "xER5ZJaRGyDN"
      }
    },
    {
      "cell_type": "markdown",
      "source": [
        "Import the necessary libraries"
      ],
      "metadata": {
        "id": "Szfzcm1mHkbM"
      }
    },
    {
      "cell_type": "code",
      "source": [
        "import pandas as pd"
      ],
      "metadata": {
        "id": "y0HLCP1CHmgh"
      },
      "execution_count": null,
      "outputs": []
    },
    {
      "cell_type": "markdown",
      "source": [
        "Consider the toy data below which has  10  training examples,  4  binary features indicating presence or absence of the word, and the sentiment associated with each example."
      ],
      "metadata": {
        "id": "C6LxwgK4HFAv"
      }
    },
    {
      "cell_type": "code",
      "execution_count": null,
      "metadata": {
        "id": "b8hCp9kSGr84",
        "colab": {
          "base_uri": "https://localhost:8080/",
          "height": 363
        },
        "outputId": "623db19b-6ae5-467b-d9a2-bdfe1f9a30b7"
      },
      "outputs": [
        {
          "output_type": "execute_result",
          "data": {
            "text/plain": [
              "   predictable  fun  pathetic  satire    target\n",
              "0            1    0         0       0  negative\n",
              "1            1    1         0       0  positive\n",
              "2            1    0         1       0  negative\n",
              "3            0    1         0       0  positive\n",
              "4            0    1         0       1  positive\n",
              "5            1    0         1       1  negative\n",
              "6            1    0         0       0  positive\n",
              "7            0    0         1       1  negative\n",
              "8            0    0         1       0  negative\n",
              "9            1    1         1       1  negative"
            ],
            "text/html": [
              "\n",
              "  <div id=\"df-96894d26-02d8-4d7e-9f33-f9f157462989\" class=\"colab-df-container\">\n",
              "    <div>\n",
              "<style scoped>\n",
              "    .dataframe tbody tr th:only-of-type {\n",
              "        vertical-align: middle;\n",
              "    }\n",
              "\n",
              "    .dataframe tbody tr th {\n",
              "        vertical-align: top;\n",
              "    }\n",
              "\n",
              "    .dataframe thead th {\n",
              "        text-align: right;\n",
              "    }\n",
              "</style>\n",
              "<table border=\"1\" class=\"dataframe\">\n",
              "  <thead>\n",
              "    <tr style=\"text-align: right;\">\n",
              "      <th></th>\n",
              "      <th>predictable</th>\n",
              "      <th>fun</th>\n",
              "      <th>pathetic</th>\n",
              "      <th>satire</th>\n",
              "      <th>target</th>\n",
              "    </tr>\n",
              "  </thead>\n",
              "  <tbody>\n",
              "    <tr>\n",
              "      <th>0</th>\n",
              "      <td>1</td>\n",
              "      <td>0</td>\n",
              "      <td>0</td>\n",
              "      <td>0</td>\n",
              "      <td>negative</td>\n",
              "    </tr>\n",
              "    <tr>\n",
              "      <th>1</th>\n",
              "      <td>1</td>\n",
              "      <td>1</td>\n",
              "      <td>0</td>\n",
              "      <td>0</td>\n",
              "      <td>positive</td>\n",
              "    </tr>\n",
              "    <tr>\n",
              "      <th>2</th>\n",
              "      <td>1</td>\n",
              "      <td>0</td>\n",
              "      <td>1</td>\n",
              "      <td>0</td>\n",
              "      <td>negative</td>\n",
              "    </tr>\n",
              "    <tr>\n",
              "      <th>3</th>\n",
              "      <td>0</td>\n",
              "      <td>1</td>\n",
              "      <td>0</td>\n",
              "      <td>0</td>\n",
              "      <td>positive</td>\n",
              "    </tr>\n",
              "    <tr>\n",
              "      <th>4</th>\n",
              "      <td>0</td>\n",
              "      <td>1</td>\n",
              "      <td>0</td>\n",
              "      <td>1</td>\n",
              "      <td>positive</td>\n",
              "    </tr>\n",
              "    <tr>\n",
              "      <th>5</th>\n",
              "      <td>1</td>\n",
              "      <td>0</td>\n",
              "      <td>1</td>\n",
              "      <td>1</td>\n",
              "      <td>negative</td>\n",
              "    </tr>\n",
              "    <tr>\n",
              "      <th>6</th>\n",
              "      <td>1</td>\n",
              "      <td>0</td>\n",
              "      <td>0</td>\n",
              "      <td>0</td>\n",
              "      <td>positive</td>\n",
              "    </tr>\n",
              "    <tr>\n",
              "      <th>7</th>\n",
              "      <td>0</td>\n",
              "      <td>0</td>\n",
              "      <td>1</td>\n",
              "      <td>1</td>\n",
              "      <td>negative</td>\n",
              "    </tr>\n",
              "    <tr>\n",
              "      <th>8</th>\n",
              "      <td>0</td>\n",
              "      <td>0</td>\n",
              "      <td>1</td>\n",
              "      <td>0</td>\n",
              "      <td>negative</td>\n",
              "    </tr>\n",
              "    <tr>\n",
              "      <th>9</th>\n",
              "      <td>1</td>\n",
              "      <td>1</td>\n",
              "      <td>1</td>\n",
              "      <td>1</td>\n",
              "      <td>negative</td>\n",
              "    </tr>\n",
              "  </tbody>\n",
              "</table>\n",
              "</div>\n",
              "    <div class=\"colab-df-buttons\">\n",
              "\n",
              "  <div class=\"colab-df-container\">\n",
              "    <button class=\"colab-df-convert\" onclick=\"convertToInteractive('df-96894d26-02d8-4d7e-9f33-f9f157462989')\"\n",
              "            title=\"Convert this dataframe to an interactive table.\"\n",
              "            style=\"display:none;\">\n",
              "\n",
              "  <svg xmlns=\"http://www.w3.org/2000/svg\" height=\"24px\" viewBox=\"0 -960 960 960\">\n",
              "    <path d=\"M120-120v-720h720v720H120Zm60-500h600v-160H180v160Zm220 220h160v-160H400v160Zm0 220h160v-160H400v160ZM180-400h160v-160H180v160Zm440 0h160v-160H620v160ZM180-180h160v-160H180v160Zm440 0h160v-160H620v160Z\"/>\n",
              "  </svg>\n",
              "    </button>\n",
              "\n",
              "  <style>\n",
              "    .colab-df-container {\n",
              "      display:flex;\n",
              "      gap: 12px;\n",
              "    }\n",
              "\n",
              "    .colab-df-convert {\n",
              "      background-color: #E8F0FE;\n",
              "      border: none;\n",
              "      border-radius: 50%;\n",
              "      cursor: pointer;\n",
              "      display: none;\n",
              "      fill: #1967D2;\n",
              "      height: 32px;\n",
              "      padding: 0 0 0 0;\n",
              "      width: 32px;\n",
              "    }\n",
              "\n",
              "    .colab-df-convert:hover {\n",
              "      background-color: #E2EBFA;\n",
              "      box-shadow: 0px 1px 2px rgba(60, 64, 67, 0.3), 0px 1px 3px 1px rgba(60, 64, 67, 0.15);\n",
              "      fill: #174EA6;\n",
              "    }\n",
              "\n",
              "    .colab-df-buttons div {\n",
              "      margin-bottom: 4px;\n",
              "    }\n",
              "\n",
              "    [theme=dark] .colab-df-convert {\n",
              "      background-color: #3B4455;\n",
              "      fill: #D2E3FC;\n",
              "    }\n",
              "\n",
              "    [theme=dark] .colab-df-convert:hover {\n",
              "      background-color: #434B5C;\n",
              "      box-shadow: 0px 1px 3px 1px rgba(0, 0, 0, 0.15);\n",
              "      filter: drop-shadow(0px 1px 2px rgba(0, 0, 0, 0.3));\n",
              "      fill: #FFFFFF;\n",
              "    }\n",
              "  </style>\n",
              "\n",
              "    <script>\n",
              "      const buttonEl =\n",
              "        document.querySelector('#df-96894d26-02d8-4d7e-9f33-f9f157462989 button.colab-df-convert');\n",
              "      buttonEl.style.display =\n",
              "        google.colab.kernel.accessAllowed ? 'block' : 'none';\n",
              "\n",
              "      async function convertToInteractive(key) {\n",
              "        const element = document.querySelector('#df-96894d26-02d8-4d7e-9f33-f9f157462989');\n",
              "        const dataTable =\n",
              "          await google.colab.kernel.invokeFunction('convertToInteractive',\n",
              "                                                    [key], {});\n",
              "        if (!dataTable) return;\n",
              "\n",
              "        const docLinkHtml = 'Like what you see? Visit the ' +\n",
              "          '<a target=\"_blank\" href=https://colab.research.google.com/notebooks/data_table.ipynb>data table notebook</a>'\n",
              "          + ' to learn more about interactive tables.';\n",
              "        element.innerHTML = '';\n",
              "        dataTable['output_type'] = 'display_data';\n",
              "        await google.colab.output.renderOutput(dataTable, element);\n",
              "        const docLink = document.createElement('div');\n",
              "        docLink.innerHTML = docLinkHtml;\n",
              "        element.appendChild(docLink);\n",
              "      }\n",
              "    </script>\n",
              "  </div>\n",
              "\n",
              "\n",
              "<div id=\"df-bc9480af-e2b3-4d4f-ab7c-a4a01723e3db\">\n",
              "  <button class=\"colab-df-quickchart\" onclick=\"quickchart('df-bc9480af-e2b3-4d4f-ab7c-a4a01723e3db')\"\n",
              "            title=\"Suggest charts\"\n",
              "            style=\"display:none;\">\n",
              "\n",
              "<svg xmlns=\"http://www.w3.org/2000/svg\" height=\"24px\"viewBox=\"0 0 24 24\"\n",
              "     width=\"24px\">\n",
              "    <g>\n",
              "        <path d=\"M19 3H5c-1.1 0-2 .9-2 2v14c0 1.1.9 2 2 2h14c1.1 0 2-.9 2-2V5c0-1.1-.9-2-2-2zM9 17H7v-7h2v7zm4 0h-2V7h2v10zm4 0h-2v-4h2v4z\"/>\n",
              "    </g>\n",
              "</svg>\n",
              "  </button>\n",
              "\n",
              "<style>\n",
              "  .colab-df-quickchart {\n",
              "      --bg-color: #E8F0FE;\n",
              "      --fill-color: #1967D2;\n",
              "      --hover-bg-color: #E2EBFA;\n",
              "      --hover-fill-color: #174EA6;\n",
              "      --disabled-fill-color: #AAA;\n",
              "      --disabled-bg-color: #DDD;\n",
              "  }\n",
              "\n",
              "  [theme=dark] .colab-df-quickchart {\n",
              "      --bg-color: #3B4455;\n",
              "      --fill-color: #D2E3FC;\n",
              "      --hover-bg-color: #434B5C;\n",
              "      --hover-fill-color: #FFFFFF;\n",
              "      --disabled-bg-color: #3B4455;\n",
              "      --disabled-fill-color: #666;\n",
              "  }\n",
              "\n",
              "  .colab-df-quickchart {\n",
              "    background-color: var(--bg-color);\n",
              "    border: none;\n",
              "    border-radius: 50%;\n",
              "    cursor: pointer;\n",
              "    display: none;\n",
              "    fill: var(--fill-color);\n",
              "    height: 32px;\n",
              "    padding: 0;\n",
              "    width: 32px;\n",
              "  }\n",
              "\n",
              "  .colab-df-quickchart:hover {\n",
              "    background-color: var(--hover-bg-color);\n",
              "    box-shadow: 0 1px 2px rgba(60, 64, 67, 0.3), 0 1px 3px 1px rgba(60, 64, 67, 0.15);\n",
              "    fill: var(--button-hover-fill-color);\n",
              "  }\n",
              "\n",
              "  .colab-df-quickchart-complete:disabled,\n",
              "  .colab-df-quickchart-complete:disabled:hover {\n",
              "    background-color: var(--disabled-bg-color);\n",
              "    fill: var(--disabled-fill-color);\n",
              "    box-shadow: none;\n",
              "  }\n",
              "\n",
              "  .colab-df-spinner {\n",
              "    border: 2px solid var(--fill-color);\n",
              "    border-color: transparent;\n",
              "    border-bottom-color: var(--fill-color);\n",
              "    animation:\n",
              "      spin 1s steps(1) infinite;\n",
              "  }\n",
              "\n",
              "  @keyframes spin {\n",
              "    0% {\n",
              "      border-color: transparent;\n",
              "      border-bottom-color: var(--fill-color);\n",
              "      border-left-color: var(--fill-color);\n",
              "    }\n",
              "    20% {\n",
              "      border-color: transparent;\n",
              "      border-left-color: var(--fill-color);\n",
              "      border-top-color: var(--fill-color);\n",
              "    }\n",
              "    30% {\n",
              "      border-color: transparent;\n",
              "      border-left-color: var(--fill-color);\n",
              "      border-top-color: var(--fill-color);\n",
              "      border-right-color: var(--fill-color);\n",
              "    }\n",
              "    40% {\n",
              "      border-color: transparent;\n",
              "      border-right-color: var(--fill-color);\n",
              "      border-top-color: var(--fill-color);\n",
              "    }\n",
              "    60% {\n",
              "      border-color: transparent;\n",
              "      border-right-color: var(--fill-color);\n",
              "    }\n",
              "    80% {\n",
              "      border-color: transparent;\n",
              "      border-right-color: var(--fill-color);\n",
              "      border-bottom-color: var(--fill-color);\n",
              "    }\n",
              "    90% {\n",
              "      border-color: transparent;\n",
              "      border-bottom-color: var(--fill-color);\n",
              "    }\n",
              "  }\n",
              "</style>\n",
              "\n",
              "  <script>\n",
              "    async function quickchart(key) {\n",
              "      const quickchartButtonEl =\n",
              "        document.querySelector('#' + key + ' button');\n",
              "      quickchartButtonEl.disabled = true;  // To prevent multiple clicks.\n",
              "      quickchartButtonEl.classList.add('colab-df-spinner');\n",
              "      try {\n",
              "        const charts = await google.colab.kernel.invokeFunction(\n",
              "            'suggestCharts', [key], {});\n",
              "      } catch (error) {\n",
              "        console.error('Error during call to suggestCharts:', error);\n",
              "      }\n",
              "      quickchartButtonEl.classList.remove('colab-df-spinner');\n",
              "      quickchartButtonEl.classList.add('colab-df-quickchart-complete');\n",
              "    }\n",
              "    (() => {\n",
              "      let quickchartButtonEl =\n",
              "        document.querySelector('#df-bc9480af-e2b3-4d4f-ab7c-a4a01723e3db button');\n",
              "      quickchartButtonEl.style.display =\n",
              "        google.colab.kernel.accessAllowed ? 'block' : 'none';\n",
              "    })();\n",
              "  </script>\n",
              "</div>\n",
              "\n",
              "  <div id=\"id_a050ff9c-aa1d-4ac1-9fcb-d3175b8bd0f1\">\n",
              "    <style>\n",
              "      .colab-df-generate {\n",
              "        background-color: #E8F0FE;\n",
              "        border: none;\n",
              "        border-radius: 50%;\n",
              "        cursor: pointer;\n",
              "        display: none;\n",
              "        fill: #1967D2;\n",
              "        height: 32px;\n",
              "        padding: 0 0 0 0;\n",
              "        width: 32px;\n",
              "      }\n",
              "\n",
              "      .colab-df-generate:hover {\n",
              "        background-color: #E2EBFA;\n",
              "        box-shadow: 0px 1px 2px rgba(60, 64, 67, 0.3), 0px 1px 3px 1px rgba(60, 64, 67, 0.15);\n",
              "        fill: #174EA6;\n",
              "      }\n",
              "\n",
              "      [theme=dark] .colab-df-generate {\n",
              "        background-color: #3B4455;\n",
              "        fill: #D2E3FC;\n",
              "      }\n",
              "\n",
              "      [theme=dark] .colab-df-generate:hover {\n",
              "        background-color: #434B5C;\n",
              "        box-shadow: 0px 1px 3px 1px rgba(0, 0, 0, 0.15);\n",
              "        filter: drop-shadow(0px 1px 2px rgba(0, 0, 0, 0.3));\n",
              "        fill: #FFFFFF;\n",
              "      }\n",
              "    </style>\n",
              "    <button class=\"colab-df-generate\" onclick=\"generateWithVariable('toy_df')\"\n",
              "            title=\"Generate code using this dataframe.\"\n",
              "            style=\"display:none;\">\n",
              "\n",
              "  <svg xmlns=\"http://www.w3.org/2000/svg\" height=\"24px\"viewBox=\"0 0 24 24\"\n",
              "       width=\"24px\">\n",
              "    <path d=\"M7,19H8.4L18.45,9,17,7.55,7,17.6ZM5,21V16.75L18.45,3.32a2,2,0,0,1,2.83,0l1.4,1.43a1.91,1.91,0,0,1,.58,1.4,1.91,1.91,0,0,1-.58,1.4L9.25,21ZM18.45,9,17,7.55Zm-12,3A5.31,5.31,0,0,0,4.9,8.1,5.31,5.31,0,0,0,1,6.5,5.31,5.31,0,0,0,4.9,4.9,5.31,5.31,0,0,0,6.5,1,5.31,5.31,0,0,0,8.1,4.9,5.31,5.31,0,0,0,12,6.5,5.46,5.46,0,0,0,6.5,12Z\"/>\n",
              "  </svg>\n",
              "    </button>\n",
              "    <script>\n",
              "      (() => {\n",
              "      const buttonEl =\n",
              "        document.querySelector('#id_a050ff9c-aa1d-4ac1-9fcb-d3175b8bd0f1 button.colab-df-generate');\n",
              "      buttonEl.style.display =\n",
              "        google.colab.kernel.accessAllowed ? 'block' : 'none';\n",
              "\n",
              "      buttonEl.onclick = () => {\n",
              "        google.colab.notebook.generateWithVariable('toy_df');\n",
              "      }\n",
              "      })();\n",
              "    </script>\n",
              "  </div>\n",
              "\n",
              "    </div>\n",
              "  </div>\n"
            ],
            "application/vnd.google.colaboratory.intrinsic+json": {
              "type": "dataframe",
              "variable_name": "toy_df",
              "summary": "{\n  \"name\": \"toy_df\",\n  \"rows\": 10,\n  \"fields\": [\n    {\n      \"column\": \"predictable\",\n      \"properties\": {\n        \"dtype\": \"number\",\n        \"std\": 0,\n        \"min\": 0,\n        \"max\": 1,\n        \"num_unique_values\": 2,\n        \"samples\": [\n          0,\n          1\n        ],\n        \"semantic_type\": \"\",\n        \"description\": \"\"\n      }\n    },\n    {\n      \"column\": \"fun\",\n      \"properties\": {\n        \"dtype\": \"number\",\n        \"std\": 0,\n        \"min\": 0,\n        \"max\": 1,\n        \"num_unique_values\": 2,\n        \"samples\": [\n          1,\n          0\n        ],\n        \"semantic_type\": \"\",\n        \"description\": \"\"\n      }\n    },\n    {\n      \"column\": \"pathetic\",\n      \"properties\": {\n        \"dtype\": \"number\",\n        \"std\": 0,\n        \"min\": 0,\n        \"max\": 1,\n        \"num_unique_values\": 2,\n        \"samples\": [\n          1,\n          0\n        ],\n        \"semantic_type\": \"\",\n        \"description\": \"\"\n      }\n    },\n    {\n      \"column\": \"satire\",\n      \"properties\": {\n        \"dtype\": \"number\",\n        \"std\": 0,\n        \"min\": 0,\n        \"max\": 1,\n        \"num_unique_values\": 2,\n        \"samples\": [\n          1,\n          0\n        ],\n        \"semantic_type\": \"\",\n        \"description\": \"\"\n      }\n    },\n    {\n      \"column\": \"target\",\n      \"properties\": {\n        \"dtype\": \"category\",\n        \"num_unique_values\": 2,\n        \"samples\": [\n          \"positive\",\n          \"negative\"\n        ],\n        \"semantic_type\": \"\",\n        \"description\": \"\"\n      }\n    }\n  ]\n}"
            }
          },
          "metadata": {},
          "execution_count": 2
        }
      ],
      "source": [
        "sentiment_toy_data = {\n",
        "    \"predictable\": [1, 1, 1, 0, 0, 1, 1, 0, 0, 1],\n",
        "    \"fun\": [0, 1, 0, 1, 1, 0, 0, 0, 0, 1],\n",
        "    \"pathetic\": [0, 0, 1, 0, 0, 1, 0, 1, 1, 1],\n",
        "    \"satire\": [0, 0, 0, 0, 1, 1, 0, 1, 0, 1],\n",
        "    \"target\": [\n",
        "        \"negative\",\n",
        "        \"positive\",\n",
        "        \"negative\",\n",
        "        \"positive\",\n",
        "        \"positive\",\n",
        "        \"negative\",\n",
        "        \"positive\",\n",
        "        \"negative\",\n",
        "        \"negative\",\n",
        "        \"negative\",\n",
        "    ],\n",
        "}\n",
        "\n",
        "toy_df = pd.DataFrame(sentiment_toy_data)\n",
        "toy_df"
      ]
    },
    {
      "cell_type": "markdown",
      "source": [
        "Given this information, you want to predict the target (positive or negative sentiment) for the following unseen test example:\n",
        "    \n",
        "$$x_{new} = \\begin{bmatrix}1 & 1 & 0 & 1\\end{bmatrix}$$."
      ],
      "metadata": {
        "id": "elumTHNDHuD1"
      }
    },
    {
      "cell_type": "markdown",
      "source": [
        "## 1.1 Class prior probabilities\n",
        "\n",
        "{2 marks}\n",
        "\n",
        "Compute the estimates of the class prior probabilities by hand.\n",
        "1. Compute $p(\\text{positive})$ and store it in a variable called `pos_prior`.\n",
        "2. Compute $p(\\text{negative})$ and store it in a variable called `neg_prior`.\n",
        "\n",
        "You do not need to show any calculations or provide any explanation. Just compute the raw frequencies/proportions and store them in the respective variables as fractions (e.g., 1/2)."
      ],
      "metadata": {
        "id": "rEqtW8MFIniu"
      }
    },
    {
      "cell_type": "code",
      "source": [
        "# Compute class prior probabilities\n",
        "pos_prior = sum(toy_df[\"target\"] == \"positive\") / len(toy_df)\n",
        "neg_prior = sum(toy_df[\"target\"] == \"negative\") / len(toy_df)\n",
        "\n",
        "# Output the computed probabilities\n",
        "pos_prior, neg_prior\n",
        "\n"
      ],
      "metadata": {
        "id": "wTKNBWg3JEf0",
        "colab": {
          "base_uri": "https://localhost:8080/"
        },
        "outputId": "2ccafea4-73ed-4d6a-ce63-82b1f297c008"
      },
      "execution_count": null,
      "outputs": [
        {
          "output_type": "execute_result",
          "data": {
            "text/plain": [
              "(0.4, 0.6)"
            ]
          },
          "metadata": {},
          "execution_count": 6
        }
      ]
    },
    {
      "cell_type": "markdown",
      "source": [
        "## 1.2 Conditional probabilities\n",
        "\n",
        "{4 marks}\n",
        "\n",
        "Compute the estimates of the conditional probabilities by hand which are required by naive Bayes for the test example $x_{new}$.\n",
        "$$x_{new} = \\begin{bmatrix}1 & 1 & 0 & 1\\end{bmatrix}$$\n",
        "\n",
        "Store the values of conditional probabilities in the variables below. Each variable represents the probability of presence or absence of the word given the class. For instance, `fun1_pos` represents $p(\\text{fun} = 1  \\mid \\text{positive})$ and `pathetic0_pos` represents $p(\\text{pathetic} = 0  \\mid \\text{positive})$.\n",
        "\n",
        "You do not need to show any work. Also, do not consider Laplace smoothing here, just compute the raw frequencies/proportions by hand and store them in the respective variables as fractions (e.g., 1/2)."
      ],
      "metadata": {
        "id": "-MaNpYFfIuWa"
      }
    },
    {
      "cell_type": "code",
      "source": [
        "predictable1_pos = 1/2  # P(predictable=1 | positive)\n",
        "fun1_pos = 3/4          # P(fun=1 | positive)\n",
        "pathetic0_pos = 1/1     # P(pathetic=0 | positive)\n",
        "satire1_pos = 1/4       # P(satire=1 | positive)\n",
        "\n",
        "predictable1_neg = 2/3  # P(predictable=1 | negative)\n",
        "fun1_neg = 1/6          # P(fun=1 | negative)\n",
        "pathetic0_neg = 1/6     # P(pathetic=0 | negative)\n",
        "satire1_neg = 1/2       # P(satire=1 | negative)\n"
      ],
      "metadata": {
        "id": "BOQW5OYMI1mr"
      },
      "execution_count": null,
      "outputs": []
    },
    {
      "cell_type": "markdown",
      "source": [
        "## 1.3 Prediction\n",
        "\n",
        "{6 marks}\n",
        "\n",
        "1. Under the naive Bayes model and your estimates of the above probabilities, what is the most likely label our test example, $x_{new}$: \"positive\" or \"negative\"? Show your calculations.\n",
        "\n",
        "$$x_{new} = \\begin{bmatrix}1 & 1 & 0 & 1\\end{bmatrix}$$\n",
        "\n",
        "> I do not expect any code here. Calculate the probabilities by hand. Use formatting of your own choice (e.g., latex preferable).\n",
        "\n",
        "$$p(\\text{positive} \\mid predictable = 1, fun = 1, pathetic = 0, satire = 1) = ?$$\n",
        "\n",
        "$$p(\\text{negative} \\mid predictable = 1, fun = 1, pathetic = 0, satire = 1) = ?$$"
      ],
      "metadata": {
        "id": "QMHk581xI6Li"
      }
    },
    {
      "cell_type": "markdown",
      "source": [
        "### Answer:"
      ],
      "metadata": {
        "id": "QIsuQsI9NL2I"
      }
    },
    {
      "cell_type": "markdown",
      "source": [
        "> YOUR ANSWER HERE"
      ],
      "metadata": {
        "id": "Rmj5K2ClJL9R"
      }
    },
    {
      "cell_type": "markdown",
      "source": [
        "## 1.4 Smoothing\n",
        "\n",
        "{2 marks}\n",
        "\n",
        "1. Suppose you are asked to predict sentiment of another new example $\\hat{x}_{new}$. What would happen when you try to calculate $p(positive \\mid \\hat{x}_{new})$? How would you deal with this problem?\n",
        "\n",
        "$$\\hat{x}_{new} = \\begin{bmatrix}0 & 1 & 1 & 1\\end{bmatrix}$$\n",
        "\n",
        "> You don't have to write any code here. Just explanation in a few sentences is enough."
      ],
      "metadata": {
        "id": "yVGY1T8LJMxM"
      }
    },
    {
      "cell_type": "markdown",
      "source": [
        "### Answer:"
      ],
      "metadata": {
        "id": "1jSLxmr6NQS5"
      }
    },
    {
      "cell_type": "markdown",
      "source": [
        "> YOUR ANSWER HERE"
      ],
      "metadata": {
        "id": "GUF7oKcwJSlc"
      }
    },
    {
      "cell_type": "markdown",
      "source": [
        "# QUESTION 2: WRITING A NAIVE BAYES CLASSIFIER FROM SCRATCH"
      ],
      "metadata": {
        "id": "-d6PP0-DGz9S"
      }
    },
    {
      "cell_type": "markdown",
      "source": [
        "Write a class to perform discrete Naive Bayes for a random dataset with n = 1000 (# of data points) and d = 2 (# of dimensions) for a binary classification y [0,1]. x1 and x2 can get any values between [0 and 1]. Then, implement the Laplace Smoothing function for the Naive Bayes class"
      ],
      "metadata": {
        "id": "0UPbhydiOWuD"
      }
    },
    {
      "cell_type": "markdown",
      "source": [
        "### Import the necessary libraries"
      ],
      "metadata": {
        "id": "AwlC8LvAOkrl"
      }
    },
    {
      "cell_type": "code",
      "source": [
        "import math\n",
        "import numpy as np\n",
        "import pandas as pd\n",
        "import matplotlib.pyplot as plt\n",
        "\n",
        "from tqdm import tqdm\n",
        "from scipy.stats import norm\n",
        "from sklearn.model_selection import train_test_split"
      ],
      "metadata": {
        "id": "YRnJXHZ0G18W"
      },
      "execution_count": null,
      "outputs": []
    },
    {
      "cell_type": "markdown",
      "source": [
        "### Creating a sample dataset with two dimensions x1, x2"
      ],
      "metadata": {
        "id": "0CaQqOxgOnpR"
      }
    },
    {
      "cell_type": "code",
      "source": [
        "x1 = np.random.randint(2, size = 1000)\n",
        "x2 = np.random.randint(2, size = 1000)\n",
        "\n",
        "y= np.random.randint(2, size = 1000)"
      ],
      "metadata": {
        "id": "l8PxJVGYOwvb"
      },
      "execution_count": null,
      "outputs": []
    },
    {
      "cell_type": "markdown",
      "source": [
        "### Create an array to store the discrete generated variables x1 and x2"
      ],
      "metadata": {
        "id": "k2NPbFM4Owam"
      }
    },
    {
      "cell_type": "code",
      "source": [
        "# YOUR CODE HERE"
      ],
      "metadata": {
        "id": "_MBsFneJOzz-"
      },
      "execution_count": null,
      "outputs": []
    },
    {
      "cell_type": "markdown",
      "source": [
        "### Create the class for Naive Bayes Classifier\n",
        "\n",
        "{5 marks}"
      ],
      "metadata": {
        "id": "XAq4hjrSO_Ro"
      }
    },
    {
      "cell_type": "code",
      "source": [
        "class Naive_Bayes:\n",
        "\n",
        "    def __init__(self, X, y, laplace=0):\n",
        "        self.X = X\n",
        "        self.y = y\n",
        "        self.laplace = laplace\n",
        "\n",
        "    def trainTestSplit(self):\n",
        "        # YOUR CODE HERE\n",
        "\n",
        "    def probability(self, X, prior, dist_1, dist_2):\n",
        "        # Generating the probablity distributions for x1 and x2\n",
        "        # YOUR CODE HERE\n",
        "\n",
        "    def runModel(self):\n",
        "        # YOUR CODE HERE\n",
        "\n",
        "        # Creating subsets of training data for class 0 and class 1 (y) respectively, to use for likelihood calculation\n",
        "        # YOUR CODE HERE\n",
        "\n",
        "        # Calculating the prior probablities of the class labels (y - 0 and 1)\n",
        "        # YOUR CODE HERE\n",
        "\n",
        "        # Let 'k' be the number of features in the dataset\n",
        "        k = 2\n",
        "        # YOUR CODE HERE (to include laplace smoothing)\n",
        "\n",
        "        # Calculating the likelihoods of the features x1 and x2, given class 0 and 1 respectively\n",
        "        # YOUR CODE HERE\n",
        "\n",
        "    def predict(self):\n",
        "        # YOUR CODE HERE\n",
        "\n",
        "            # Calculating the posterior probabilities for a sample being a part of each class label\n",
        "            # YOUR CODE HERE"
      ],
      "metadata": {
        "id": "zjfQN1JIG3kk"
      },
      "execution_count": null,
      "outputs": []
    },
    {
      "cell_type": "markdown",
      "source": [
        "### Execute without Laplace Smooting\n",
        "\n",
        "{3 marks}"
      ],
      "metadata": {
        "id": "XKAAOdFjPIc9"
      }
    },
    {
      "cell_type": "code",
      "source": [
        "nb = Naive_Bayes(X, y)"
      ],
      "metadata": {
        "id": "B4c23pN4PLB6"
      },
      "execution_count": null,
      "outputs": []
    },
    {
      "cell_type": "code",
      "source": [
        "nb.runModel()"
      ],
      "metadata": {
        "id": "Ki-JYYvFPPOL"
      },
      "execution_count": null,
      "outputs": []
    },
    {
      "cell_type": "code",
      "source": [
        "nb.predict()"
      ],
      "metadata": {
        "id": "27e7FjFWPQ0P"
      },
      "execution_count": null,
      "outputs": []
    },
    {
      "cell_type": "markdown",
      "source": [
        "### Execute after Laplace Smooting\n",
        "\n",
        "{3 marks}"
      ],
      "metadata": {
        "id": "URgOS_4aPVyA"
      }
    },
    {
      "cell_type": "code",
      "source": [
        "nb = Naive_Bayes(X, y, laplace=1)"
      ],
      "metadata": {
        "id": "i2wLfyJSPXor"
      },
      "execution_count": null,
      "outputs": []
    },
    {
      "cell_type": "code",
      "source": [
        "nb.runModel()"
      ],
      "metadata": {
        "id": "lA1-_uLjPbS2"
      },
      "execution_count": null,
      "outputs": []
    },
    {
      "cell_type": "code",
      "source": [
        "nb.predict()"
      ],
      "metadata": {
        "id": "I0ZvFGOsPdjT"
      },
      "execution_count": null,
      "outputs": []
    },
    {
      "cell_type": "markdown",
      "source": [
        "# QUESTION 3: SENTIMENT ANALYSIS WITH NAIVE BAYES\n",
        "\n",
        "{10 marks}"
      ],
      "metadata": {
        "id": "jk9Wui0rG2MS"
      }
    },
    {
      "cell_type": "markdown",
      "source": [
        "Perform Sentiment Analysis with the above naive bayes class, on the following dataset: https://www.kaggle.com/datasets/ritresearch/happydb\n",
        "\n",
        "Follow these steps:\n",
        "\n",
        "\n",
        "1. Load the dataset: Use the cleaned version of the dataset (cleaned_hm.csv) and load it into a pandas dataframe.\n",
        "2. Map categories to binary sentiment labels:\n",
        "  * Categories affection and exercise should be labeled as happy (1).\n",
        "  * All other categories should be labeled as not_happy (0).\n",
        "3. Select the required columns: Extract the columns containing the text data and the binary sentiment labels.\n",
        "4. Split the data into training and testing sets:\n",
        "  * Use an 80-20 train-test split.\n",
        "  * Ensure random_state is set for reproducibility.\n",
        "5. Convert text data into numerical vectors:\n",
        "  * Use the CountVectorizer from scikit-learn to create feature vectors.\n",
        "  * Fit the CountVectorizer on the training data and transform both training and testing data.\n",
        "6. Train a Naive Bayes classifier:\n",
        "  * Instantiate the Naive Bayes class and train it on the training data.\n",
        "7. Evaluate the model:\n",
        "  * Predict the sentiment on the test data.\n",
        "  * Calculate the accuracy score and generate a classification report."
      ],
      "metadata": {
        "id": "9skksCPBPzSe"
      }
    },
    {
      "cell_type": "markdown",
      "source": [
        "### Import necessary libraries"
      ],
      "metadata": {
        "id": "xe1b_giDRUE1"
      }
    },
    {
      "cell_type": "code",
      "source": [
        "import numpy as np\n",
        "import pandas as pd\n",
        "from sklearn.model_selection import train_test_split\n",
        "from sklearn.feature_extraction.text import CountVectorizer\n",
        "from sklearn.metrics import accuracy_score, classification_report\n",
        "import requests\n",
        "from zipfile import ZipFile\n",
        "import io"
      ],
      "metadata": {
        "id": "SNv9c-FERTt_"
      },
      "execution_count": null,
      "outputs": []
    },
    {
      "cell_type": "markdown",
      "source": [
        "### Load the dataset into a dataframe"
      ],
      "metadata": {
        "id": "7H5SGhM3RaUo"
      }
    },
    {
      "cell_type": "markdown",
      "source": [
        "Download dataset and load it into your google colab from: https://www.kaggle.com/datasets/ritresearch/happydb"
      ],
      "metadata": {
        "id": "SAQOIntkfOM2"
      }
    },
    {
      "cell_type": "code",
      "source": [
        "df = pd.read_csv('/content/cleaned_hm.csv')"
      ],
      "metadata": {
        "id": "LUB8agSpRaFk"
      },
      "execution_count": null,
      "outputs": []
    },
    {
      "cell_type": "code",
      "source": [
        "# Map the 'ground_truth_category' into binary sentiment\n",
        "# Assuming 'affection' and 'exercise' are considered happy (label 1)\n",
        "# Map other categories to 'not_happy' (label 0)\n",
        "\n",
        "# YOUR CODE HERE"
      ],
      "metadata": {
        "id": "tC9OfbweSCRf"
      },
      "execution_count": null,
      "outputs": []
    },
    {
      "cell_type": "code",
      "source": [
        "# Select the required columns\n",
        "\n",
        "# YOUR CODE HERE"
      ],
      "metadata": {
        "id": "iYGUmQxzTp5j"
      },
      "execution_count": null,
      "outputs": []
    },
    {
      "cell_type": "code",
      "source": [
        "# Split data into features (X) and labels (y)\n",
        "\n",
        "# YOUR CODE HERE"
      ],
      "metadata": {
        "id": "s7JfDSldTuFZ"
      },
      "execution_count": null,
      "outputs": []
    },
    {
      "cell_type": "code",
      "source": [
        "# Convert text data to numerical vectors using CountVectorizer\n",
        "\n",
        "# YOUR CODE HERE"
      ],
      "metadata": {
        "id": "OgWaZ7rZTwjN"
      },
      "execution_count": null,
      "outputs": []
    },
    {
      "cell_type": "code",
      "source": [
        "# Instantiate the Naive_Bayes class\n",
        "\n",
        "# YOUR CODE HERE"
      ],
      "metadata": {
        "id": "qG1gXKrhT0PU"
      },
      "execution_count": null,
      "outputs": []
    },
    {
      "cell_type": "code",
      "source": [
        "# Train the model\n",
        "nb.runModel()"
      ],
      "metadata": {
        "id": "QwzTQgnfT2G7"
      },
      "execution_count": null,
      "outputs": []
    },
    {
      "cell_type": "code",
      "source": [
        "# Predict on the test data\n",
        "nb.predict()"
      ],
      "metadata": {
        "id": "roknuGigT5Yv"
      },
      "execution_count": null,
      "outputs": []
    }
  ]
}